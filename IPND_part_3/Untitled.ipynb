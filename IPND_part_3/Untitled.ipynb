{
 "cells": [
  {
   "cell_type": "code",
   "execution_count": 1,
   "metadata": {},
   "outputs": [
    {
     "name": "stdout",
     "output_type": "stream",
     "text": [
      "Type in a PLACE: Stamford\n",
      "Type in a NOUN: Church\n",
      "Type in a PERSON: Bill\n",
      "Type in a PLURALNOUN: Condas\n",
      "This is Stamford, no Church named Bill, we have so many Condas around here.\n"
     ]
    }
   ],
   "source": [
    "######\n",
    "# 3.13.14 Putting it all together\n",
    "# Write code for the function play_game, which takes in as inputs parts_of_speech\n",
    "# (a list of acceptable replacement words) and ml_string (a string that \n",
    "# can contain replacement words that are found in parts_of_speech). Your play_game\n",
    "# function should return the joined list replaced, which will have the same structure\n",
    "# as ml_string, only that replacement words are swapped out with \"corgi\", since this\n",
    "# program cannot replace those words with user input. \n",
    "\n",
    "parts_of_speech  = [\"PLACE\", \"PERSON\", \"PLURALNOUN\", \"NOUN\"]\n",
    "\n",
    "test_string = \"\"\"This is PLACE, no NOUN named PERSON, we have so many PLURALNOUN around here.\"\"\"\n",
    "\n",
    "def word_in_pos(word, parts_of_speech):\n",
    "    for pos in parts_of_speech:\n",
    "        if pos in word:\n",
    "            return pos\n",
    "    return None\n",
    "        \n",
    "def play_game(ml_string, parts_of_speech):    \n",
    "    replaced = []\n",
    "    ml_string = ml_string.split()\n",
    "    for word in ml_string:\n",
    "    \treplacement = word_in_pos(word, parts_of_speech)\n",
    "    \tif replacement != None:\n",
    "    \t\tuser_input = raw_input(\"Type in a \" + replacement + \": \")\n",
    "    \t\tword = word.replace(replacement, user_input)\n",
    "    \t\treplaced.append(word)\n",
    "    \telse:\n",
    "    \t\treplaced.append(word)\n",
    "    replaced = \" \".join(replaced)\n",
    "    return replaced\n",
    "\n",
    "print play_game(test_string, parts_of_speech) "
   ]
  },
  {
   "cell_type": "code",
   "execution_count": null,
   "metadata": {},
   "outputs": [],
   "source": []
  }
 ],
 "metadata": {
  "kernelspec": {
   "display_name": "Python 2",
   "language": "python",
   "name": "python2"
  },
  "language_info": {
   "codemirror_mode": {
    "name": "ipython",
    "version": 2
   },
   "file_extension": ".py",
   "mimetype": "text/x-python",
   "name": "python",
   "nbconvert_exporter": "python",
   "pygments_lexer": "ipython2",
   "version": "2.7.15"
  }
 },
 "nbformat": 4,
 "nbformat_minor": 2
}
